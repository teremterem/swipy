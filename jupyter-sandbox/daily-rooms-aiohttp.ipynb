{
 "cells": [
  {
   "cell_type": "code",
   "execution_count": 14,
   "outputs": [
    {
     "name": "stdout",
     "output_type": "stream",
     "text": [
      "<class 'str'>\n",
      "64\n"
     ]
    }
   ],
   "source": [
    "from pprint import pprint\n",
    "\n",
    "import aiohttp\n",
    "\n",
    "with open(\"daily-api-token.json\") as f:\n",
    "    daily_api_token = f.read()\n",
    "print(type(daily_api_token))\n",
    "print(len(daily_api_token))\n",
    "\n",
    "daily_url_base = 'https://api.daily.co/v1'"
   ],
   "metadata": {
    "collapsed": false,
    "pycharm": {
     "name": "#%%\n"
    }
   }
  },
  {
   "cell_type": "code",
   "execution_count": 15,
   "outputs": [
    {
     "name": "stdout",
     "output_type": "stream",
     "text": [
      "{'data': [{'api_created': True,\n",
      "           'config': {'enable_chat': True,\n",
      "                      'enable_network_ui': False,\n",
      "                      'enable_new_call_ui': True,\n",
      "                      'enable_prejoin_ui': True,\n",
      "                      'lang': 'en'},\n",
      "           'created_at': '2021-05-09T12:22:22.000Z',\n",
      "           'id': '1f1ed654-933c-491f-b34b-538218e0b672',\n",
      "           'name': 'PpNcBoVvKcP9ZPEEGRDZ',\n",
      "           'privacy': 'public',\n",
      "           'url': 'https://swipy.daily.co/PpNcBoVvKcP9ZPEEGRDZ'},\n",
      "          {'api_created': False,\n",
      "           'config': {'enable_new_call_ui': True, 'enable_prejoin_ui': True},\n",
      "           'created_at': '2021-05-09T10:52:09.000Z',\n",
      "           'id': 'c9d1984f-4748-40a6-ae4d-6cabf8681a35',\n",
      "           'name': 'new-prebuilt-test',\n",
      "           'privacy': 'public',\n",
      "           'url': 'https://swipy.daily.co/new-prebuilt-test'},\n",
      "          {'api_created': False,\n",
      "           'config': {'autojoin': True, 'enable_chat': True},\n",
      "           'created_at': '2021-04-24T13:07:46.000Z',\n",
      "           'id': '86734244-ddc3-4420-b8b3-9dbfc5bc1b95',\n",
      "           'name': 'u078Uo78ml0V8LnmmhyF',\n",
      "           'privacy': 'public',\n",
      "           'url': 'https://swipy.daily.co/u078Uo78ml0V8LnmmhyF'}],\n",
      " 'total_count': 3}\n",
      "\n",
      "{'api_created': True,\n",
      " 'config': {'enable_chat': True,\n",
      "            'enable_network_ui': False,\n",
      "            'enable_new_call_ui': True,\n",
      "            'enable_prejoin_ui': True,\n",
      "            'lang': 'en'},\n",
      " 'created_at': '2021-05-09T16:41:17.424Z',\n",
      " 'id': 'e35f6e6c-e3e2-42f8-9404-bbf7e5209cbe',\n",
      " 'name': 'LyC5vGeoaRaUlnGa7qT0',\n",
      " 'privacy': 'public',\n",
      " 'url': 'https://swipy.daily.co/LyC5vGeoaRaUlnGa7qT0'}\n"
     ]
    }
   ],
   "source": [
    "async with aiohttp.ClientSession() as session:\n",
    "    async with session.get(\n",
    "            f\"{daily_url_base}/rooms\",\n",
    "            headers={\n",
    "                'Authorization': f\"Bearer {daily_api_token}\",\n",
    "            },\n",
    "    ) as resp:\n",
    "        pprint(await resp.json())\n",
    "\n",
    "    room_data = {\n",
    "        'privacy': 'public',\n",
    "        'properties': {\n",
    "            'enable_network_ui': False,\n",
    "            'enable_prejoin_ui': True,\n",
    "            'enable_new_call_ui': True,\n",
    "            'enable_screenshare': True,\n",
    "            'enable_chat': True,\n",
    "            'start_video_off': False,\n",
    "            'start_audio_off': False,\n",
    "            'owner_only_broadcast': False,\n",
    "            'lang': 'en',\n",
    "        },\n",
    "    }\n",
    "    async with session.post(\n",
    "            f\"{daily_url_base}/rooms\",\n",
    "            headers={\n",
    "                'Authorization': f\"Bearer {daily_api_token}\",\n",
    "            },\n",
    "            json=room_data,\n",
    "    ) as resp:\n",
    "        print()\n",
    "        pprint(await resp.json())"
   ],
   "metadata": {
    "collapsed": false,
    "pycharm": {
     "name": "#%%\n"
    }
   }
  }
 ],
 "metadata": {
  "kernelspec": {
   "display_name": "Python 3",
   "language": "python",
   "name": "python3"
  },
  "language_info": {
   "codemirror_mode": {
    "name": "ipython",
    "version": 2
   },
   "file_extension": ".py",
   "mimetype": "text/x-python",
   "name": "python",
   "nbconvert_exporter": "python",
   "pygments_lexer": "ipython2",
   "version": "2.7.6"
  }
 },
 "nbformat": 4,
 "nbformat_minor": 0
}