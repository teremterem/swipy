{
 "cells": [
  {
   "cell_type": "code",
   "execution_count": 1,
   "outputs": [
    {
     "name": "stdout",
     "output_type": "stream",
     "text": [
      "<class 'str'>\n",
      "64\n"
     ]
    }
   ],
   "source": [
    "from pprint import pprint\n",
    "\n",
    "import aiohttp\n",
    "\n",
    "with open(\"daily-co-api-token.txt\") as f:\n",
    "    daily_api_token = f.read()\n",
    "print(type(daily_api_token))\n",
    "print(len(daily_api_token))\n",
    "\n",
    "daily_url_base = 'https://api.daily.co/v1'"
   ],
   "metadata": {
    "collapsed": false,
    "pycharm": {
     "name": "#%%\n"
    }
   }
  },
  {
   "cell_type": "code",
   "execution_count": 2,
   "outputs": [
    {
     "name": "stdout",
     "output_type": "stream",
     "text": [
      "{'data': [{'api_created': True,\n",
      "           'config': {'enable_chat': True,\n",
      "                      'enable_network_ui': False,\n",
      "                      'enable_new_call_ui': True,\n",
      "                      'enable_prejoin_ui': True,\n",
      "                      'lang': 'en'},\n",
      "           'created_at': '2021-05-17T14:04:27.000Z',\n",
      "           'id': 'c1726ff4-c137-4afc-86b4-6fce7b5763b7',\n",
      "           'name': '0gA58WmnWdhgpg6b3i9t',\n",
      "           'privacy': 'public',\n",
      "           'url': 'https://swipy.daily.co/0gA58WmnWdhgpg6b3i9t'},\n",
      "          {'api_created': True,\n",
      "           'config': {'enable_chat': True,\n",
      "                      'enable_network_ui': False,\n",
      "                      'enable_new_call_ui': True,\n",
      "                      'enable_prejoin_ui': True,\n",
      "                      'lang': 'en'},\n",
      "           'created_at': '2021-05-17T14:03:30.000Z',\n",
      "           'id': '6df001fa-5aef-4379-83ca-d458b5b07ba8',\n",
      "           'name': '4vI1eEybFNxo0mHeymbb',\n",
      "           'privacy': 'public',\n",
      "           'url': 'https://swipy.daily.co/4vI1eEybFNxo0mHeymbb'}],\n",
      " 'total_count': 2}\n",
      "\n",
      "{'api_created': True,\n",
      " 'config': {'enable_chat': True,\n",
      "            'enable_network_ui': False,\n",
      "            'enable_new_call_ui': True,\n",
      "            'enable_prejoin_ui': True,\n",
      "            'lang': 'en'},\n",
      " 'created_at': '2021-05-17T14:04:35.234Z',\n",
      " 'id': 'fade686f-c770-4df2-9848-42252262de8d',\n",
      " 'name': 'RHgoRX05WntnA65tWkg7',\n",
      " 'privacy': 'public',\n",
      " 'url': 'https://swipy.daily.co/RHgoRX05WntnA65tWkg7'}\n"
     ]
    }
   ],
   "source": [
    "async with aiohttp.ClientSession() as session:\n",
    "    async with session.get(\n",
    "            f\"{daily_url_base}/rooms\",\n",
    "            headers={\n",
    "                'Authorization': f\"Bearer {daily_api_token}\",\n",
    "            },\n",
    "    ) as resp:\n",
    "        pprint(await resp.json())\n",
    "\n",
    "    room_data = {\n",
    "        'privacy': 'public',\n",
    "        'properties': {\n",
    "            'enable_network_ui': False,\n",
    "            'enable_prejoin_ui': True,\n",
    "            'enable_new_call_ui': True,\n",
    "            'enable_screenshare': True,\n",
    "            'enable_chat': True,\n",
    "            'start_video_off': False,\n",
    "            'start_audio_off': False,\n",
    "            'owner_only_broadcast': False,\n",
    "            'lang': 'en',\n",
    "        },\n",
    "    }\n",
    "    async with session.post(\n",
    "            f\"{daily_url_base}/rooms\",\n",
    "            headers={\n",
    "                'Authorization': f\"Bearer {daily_api_token}\",\n",
    "            },\n",
    "            json=room_data,\n",
    "    ) as resp:\n",
    "        print()\n",
    "        pprint(await resp.json())"
   ],
   "metadata": {
    "collapsed": false,
    "pycharm": {
     "name": "#%%\n"
    }
   }
  }
 ],
 "metadata": {
  "kernelspec": {
   "display_name": "Python 3",
   "language": "python",
   "name": "python3"
  },
  "language_info": {
   "codemirror_mode": {
    "name": "ipython",
    "version": 2
   },
   "file_extension": ".py",
   "mimetype": "text/x-python",
   "name": "python",
   "nbconvert_exporter": "python",
   "pygments_lexer": "ipython2",
   "version": "2.7.6"
  }
 },
 "nbformat": 4,
 "nbformat_minor": 0
}